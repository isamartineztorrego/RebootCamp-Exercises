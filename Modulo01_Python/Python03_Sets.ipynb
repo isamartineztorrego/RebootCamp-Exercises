{
 "cells": [
  {
   "cell_type": "markdown",
   "metadata": {},
   "source": [
    "# Ejercicios Sets"
   ]
  },
  {
   "cell_type": "markdown",
   "metadata": {},
   "source": [
    "- Definir sets"
   ]
  },
  {
   "cell_type": "markdown",
   "metadata": {},
   "source": [
    "  1. Define la *lista* \n",
    "        ```python\n",
    "        temperaturas_diciembre = [10, 10, 13, 14, 12, 15, \n",
    "                                  12, 11, 13, 17, 18, 15, \n",
    "                                  15, 17, 17, 13, 13, 11,\n",
    "                                  12, 10, 12, 14, 12, 12,\n",
    "                                  11, 12, 16, 16, 14, 17, 18]\n",
    "        ```"
   ]
  },
  {
   "cell_type": "code",
   "execution_count": 62,
   "metadata": {},
   "outputs": [],
   "source": [
    "temperaturas_diciembre = [10, 10, 13, 14, 12, 15,\n",
    "                          12, 11, 13, 17, 18, 15,\n",
    "                          15, 17, 17, 13, 13, 11,\n",
    "                          12, 10, 12, 14, 12, 12,\n",
    "                          11, 12, 16, 16, 14, 17, 18]"
   ]
  },
  {
   "cell_type": "markdown",
   "metadata": {},
   "source": [
    "2. Conviértala en un set  llamado `diciembre`."
   ]
  },
  {
   "cell_type": "code",
   "execution_count": 63,
   "metadata": {},
   "outputs": [
    {
     "data": {
      "text/plain": [
       "{10, 11, 12, 13, 14, 15, 16, 17, 18}"
      ]
     },
     "execution_count": 63,
     "metadata": {},
     "output_type": "execute_result"
    }
   ],
   "source": [
    "diciembre = set(temperaturas_diciembre)\n",
    "diciembre"
   ]
  },
  {
   "cell_type": "markdown",
   "metadata": {},
   "source": [
    "3. Piensa en 6 colores y almacenalos en un set llamado `colores`."
   ]
  },
  {
   "cell_type": "code",
   "execution_count": 64,
   "metadata": {},
   "outputs": [],
   "source": [
    "colores = {'rosa', 'amarillo', 'verde', 'azul', 'naranja', 'rojo'}"
   ]
  },
  {
   "cell_type": "markdown",
   "metadata": {},
   "source": [
    "- Ampliar sets"
   ]
  },
  {
   "cell_type": "markdown",
   "metadata": {},
   "source": [
    "4. Añade `'lila'` a `colores`."
   ]
  },
  {
   "cell_type": "code",
   "execution_count": 65,
   "metadata": {},
   "outputs": [
    {
     "data": {
      "text/plain": [
       "{'amarillo', 'azul', 'lila', 'naranja', 'rojo', 'rosa', 'verde'}"
      ]
     },
     "execution_count": 65,
     "metadata": {},
     "output_type": "execute_result"
    }
   ],
   "source": [
    "colores.add('lila')\n",
    "colores"
   ]
  },
  {
   "cell_type": "markdown",
   "metadata": {},
   "source": [
    " 5. Añade `'azul'`, `'rojo'`, y `'granate'` a `colores` usando `.update()`."
   ]
  },
  {
   "cell_type": "code",
   "execution_count": 66,
   "metadata": {},
   "outputs": [
    {
     "data": {
      "text/plain": [
       "{'amarillo', 'azul', 'granate', 'lila', 'naranja', 'rojo', 'rosa', 'verde'}"
      ]
     },
     "execution_count": 66,
     "metadata": {},
     "output_type": "execute_result"
    }
   ],
   "source": [
    "colores.update({'azul', 'rojo', 'granate'})\n",
    "colores"
   ]
  },
  {
   "cell_type": "markdown",
   "metadata": {},
   "source": [
    "- `in`, `not in`"
   ]
  },
  {
   "cell_type": "markdown",
   "metadata": {},
   "source": [
    "6. Tu set de `colores`, ¿tiene `'verde'`?"
   ]
  },
  {
   "cell_type": "code",
   "execution_count": 67,
   "metadata": {},
   "outputs": [
    {
     "data": {
      "text/plain": [
       "True"
      ]
     },
     "execution_count": 67,
     "metadata": {},
     "output_type": "execute_result"
    }
   ],
   "source": [
    "'verde' in colores"
   ]
  },
  {
   "cell_type": "markdown",
   "metadata": {},
   "source": [
    "7. ¿Y tiene `'ROJO'`?"
   ]
  },
  {
   "cell_type": "code",
   "execution_count": 68,
   "metadata": {},
   "outputs": [
    {
     "data": {
      "text/plain": [
       "False"
      ]
     },
     "execution_count": 68,
     "metadata": {},
     "output_type": "execute_result"
    }
   ],
   "source": [
    "'ROJO' in colores"
   ]
  },
  {
   "cell_type": "markdown",
   "metadata": {},
   "source": [
    "- Copiar, borrar elementos"
   ]
  },
  {
   "cell_type": "markdown",
   "metadata": {},
   "source": [
    "8. Define el set `enero` para que sea igual a `diciembre`."
   ]
  },
  {
   "cell_type": "code",
   "execution_count": 69,
   "metadata": {},
   "outputs": [
    {
     "data": {
      "text/plain": [
       "{10, 11, 12, 13, 14, 15, 16, 17, 18}"
      ]
     },
     "execution_count": 69,
     "metadata": {},
     "output_type": "execute_result"
    }
   ],
   "source": [
    "enero = diciembre.copy()\n",
    "enero"
   ]
  },
  {
   "cell_type": "markdown",
   "metadata": {},
   "source": [
    " 9. Quita las temperaturas `17`, y `18` de `enero`."
   ]
  },
  {
   "cell_type": "code",
   "execution_count": 70,
   "metadata": {},
   "outputs": [
    {
     "data": {
      "text/plain": [
       "{10, 11, 12, 13, 14, 15, 16}"
      ]
     },
     "execution_count": 70,
     "metadata": {},
     "output_type": "execute_result"
    }
   ],
   "source": [
    "#.remove da error si el valor no existe\n",
    "#.discard no da error si el valor no existe\n",
    "enero.remove(17)\n",
    "enero.discard(18)\n",
    "enero"
   ]
  },
  {
   "cell_type": "markdown",
   "metadata": {},
   "source": [
    "- Tamaño de un set"
   ]
  },
  {
   "cell_type": "markdown",
   "metadata": {},
   "source": [
    "10. ¿Cuántas temperaturas distintas había en diciembre?"
   ]
  },
  {
   "cell_type": "code",
   "execution_count": 71,
   "metadata": {},
   "outputs": [
    {
     "data": {
      "text/plain": [
       "9"
      ]
     },
     "execution_count": 71,
     "metadata": {},
     "output_type": "execute_result"
    }
   ],
   "source": [
    "len(diciembre)"
   ]
  },
  {
   "cell_type": "markdown",
   "metadata": {},
   "source": [
    " 11. ¿Y cuántas en enero?"
   ]
  },
  {
   "cell_type": "code",
   "execution_count": 72,
   "metadata": {},
   "outputs": [
    {
     "data": {
      "text/plain": [
       "7"
      ]
     },
     "execution_count": 72,
     "metadata": {},
     "output_type": "execute_result"
    }
   ],
   "source": [
    "len(enero)"
   ]
  },
  {
   "cell_type": "markdown",
   "metadata": {},
   "source": [
    "- Conjuntos con sets"
   ]
  },
  {
   "cell_type": "markdown",
   "metadata": {},
   "source": [
    "12. Identifica los elementos que hay en `diciembre` que no están en `enero`."
   ]
  },
  {
   "cell_type": "code",
   "execution_count": 73,
   "metadata": {},
   "outputs": [
    {
     "name": "stdout",
     "output_type": "stream",
     "text": [
      "{10, 11, 12, 13, 14, 15, 16, 17, 18}\n",
      "{10, 11, 12, 13, 14, 15, 16}\n"
     ]
    },
    {
     "data": {
      "text/plain": [
       "{17, 18}"
      ]
     },
     "execution_count": 73,
     "metadata": {},
     "output_type": "execute_result"
    }
   ],
   "source": [
    "#Imprimo ambos set para mejor visualización\n",
    "print(diciembre)\n",
    "print(enero)\n",
    "\n",
    "#Identifico los elementos que están en diciembre pero no en enero\n",
    "diciembre.difference(enero)"
   ]
  },
  {
   "cell_type": "markdown",
   "metadata": {},
   "source": [
    "13. Identifica los elementos que hay en `enero` que no están en `diciembre`."
   ]
  },
  {
   "cell_type": "code",
   "execution_count": 74,
   "metadata": {},
   "outputs": [
    {
     "data": {
      "text/plain": [
       "set()"
      ]
     },
     "execution_count": 74,
     "metadata": {},
     "output_type": "execute_result"
    }
   ],
   "source": [
    "enero.difference(diciembre) #No hay ninguno que esté en enero pero no en diciembre."
   ]
  },
  {
   "cell_type": "markdown",
   "metadata": {},
   "source": [
    "14. Identifica los elementos que tienen en común `diciembre` y `enero`."
   ]
  },
  {
   "cell_type": "code",
   "execution_count": 75,
   "metadata": {},
   "outputs": [
    {
     "data": {
      "text/plain": [
       "{10, 11, 12, 13, 14, 15, 16}"
      ]
     },
     "execution_count": 75,
     "metadata": {},
     "output_type": "execute_result"
    }
   ],
   "source": [
    "diciembre.intersection(enero)"
   ]
  },
  {
   "cell_type": "markdown",
   "metadata": {},
   "source": [
    "  15. Identifica la diferencia simétrica de `colores` y `{'marrón','amarillo','cyan'}`. ¿Qué significa este resultado?\n"
   ]
  },
  {
   "cell_type": "code",
   "execution_count": 76,
   "metadata": {},
   "outputs": [
    {
     "name": "stdout",
     "output_type": "stream",
     "text": [
      "El primer set de colores es: {'lila', 'amarillo', 'rojo', 'verde', 'granate', 'azul', 'naranja', 'rosa'}\n",
      "El segundo set de colores es: {'cyan', 'amarillo', 'marrón'}\n",
      "La diferencia simétrica es:\n",
      "{'lila', 'cyan', 'rojo', 'verde', 'granate', 'marrón', 'azul', 'naranja', 'rosa'}\n"
     ]
    }
   ],
   "source": [
    "#Imprimo colores para recordar\n",
    "print(f'El primer set de colores es: {colores}')\n",
    "\n",
    "#Guardo e imprimo los nuevos colores en una nueva variable\n",
    "colores2 = {'marrón', 'amarillo', 'cyan'}\n",
    "print(f'El segundo set de colores es: {colores2}')\n",
    "\n",
    "#Identifico la diferencia simétrica (aquellos colores que sólo están en alguno de los sets)\n",
    "print(f'La diferencia simétrica es:\\n{colores2.symmetric_difference(colores)}')"
   ]
  },
  {
   "cell_type": "markdown",
   "metadata": {},
   "source": [
    "- Comparar sets"
   ]
  },
  {
   "cell_type": "markdown",
   "metadata": {},
   "source": [
    "16. ¿Son *disjoint* `diciembre` y `enero`? ¿Por qué (no)?"
   ]
  },
  {
   "cell_type": "code",
   "execution_count": 77,
   "metadata": {},
   "outputs": [
    {
     "data": {
      "text/plain": [
       "False"
      ]
     },
     "execution_count": 77,
     "metadata": {},
     "output_type": "execute_result"
    }
   ],
   "source": [
    "#Disjoint --> dos sets son totalmente diferentes, no tienen ningún elemento en común\n",
    "diciembre.isdisjoint(enero) #Es False porque sí tienen algún elemento en común"
   ]
  },
  {
   "cell_type": "markdown",
   "metadata": {},
   "source": [
    "17. ¿Es `{'rojo','azul'}` un superset de colores?"
   ]
  },
  {
   "cell_type": "code",
   "execution_count": 78,
   "metadata": {},
   "outputs": [
    {
     "name": "stdout",
     "output_type": "stream",
     "text": [
      "El set original de colores es: {'lila', 'amarillo', 'rojo', 'verde', 'granate', 'azul', 'naranja', 'rosa'}\n",
      "El último set de colores es: {'azul', 'rojo'}\n"
     ]
    },
    {
     "data": {
      "text/plain": [
       "False"
      ]
     },
     "execution_count": 78,
     "metadata": {},
     "output_type": "execute_result"
    }
   ],
   "source": [
    "#Superset --> todos los elementos del segundo set están contenidos en el primer set\n",
    "\n",
    "#Creo nuevo set de colores\n",
    "colores3 = {'rojo', 'azul'}\n",
    "\n",
    "#Imprimo ambas lista para una mejor comprensión del resultado\n",
    "print(f'El set original de colores es: {colores}')\n",
    "print(f'El último set de colores es: {colores3}')\n",
    "\n",
    "#Averiguo si colores3 es un superset de colores\n",
    "colores3.issuperset(colores) #Es False porque no todos los elementos de colores están en colores3"
   ]
  },
  {
   "cell_type": "markdown",
   "metadata": {},
   "source": [
    "18. ¿Y un subset?"
   ]
  },
  {
   "cell_type": "code",
   "execution_count": 79,
   "metadata": {},
   "outputs": [
    {
     "data": {
      "text/plain": [
       "True"
      ]
     },
     "execution_count": 79,
     "metadata": {},
     "output_type": "execute_result"
    }
   ],
   "source": [
    "#Subset --> todos los elementos del primer set están contenidos en el segundo set\n",
    "colores3.issubset(colores) #Es True porque todos los elementos de colores3 están en colores"
   ]
  }
 ],
 "metadata": {
  "kernelspec": {
   "display_name": "Python 3",
   "language": "python",
   "name": "python3"
  },
  "language_info": {
   "codemirror_mode": {
    "name": "ipython",
    "version": 3
   },
   "file_extension": ".py",
   "mimetype": "text/x-python",
   "name": "python",
   "nbconvert_exporter": "python",
   "pygments_lexer": "ipython3",
   "version": "3.9.7"
  }
 },
 "nbformat": 4,
 "nbformat_minor": 2
}
