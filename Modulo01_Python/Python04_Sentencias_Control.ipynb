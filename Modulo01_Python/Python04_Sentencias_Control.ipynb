{
 "cells": [
  {
   "cell_type": "markdown",
   "metadata": {},
   "source": [
    "# Ejercicios Sentencias de Control"
   ]
  },
  {
   "cell_type": "markdown",
   "metadata": {},
   "source": [
    "1. Crea las siguientes variables:\n",
    "\n",
    "  - `var1` sea un número con el valor `8`.\n",
    "\n",
    "  - `var2` sea un número con el valor `2`.\n",
    "\n",
    "  - `var3` sea un número con el valor `8`."
   ]
  },
  {
   "cell_type": "code",
   "execution_count": 1,
   "metadata": {},
   "outputs": [],
   "source": [
    "var1 = 8\n",
    "var2 = 2\n",
    "var3 = 8"
   ]
  },
  {
   "cell_type": "markdown",
   "metadata": {},
   "source": [
    "2. Comprueba si `var1` es mayor que 6, y si es así imprime `¡Es enorme!`."
   ]
  },
  {
   "cell_type": "code",
   "execution_count": 3,
   "metadata": {},
   "outputs": [
    {
     "name": "stdout",
     "output_type": "stream",
     "text": [
      "¡Es enorme!\n"
     ]
    }
   ],
   "source": [
    "if var1 > 6:\n",
    "    print('¡Es enorme!')"
   ]
  },
  {
   "cell_type": "markdown",
   "metadata": {},
   "source": [
    "3. Comprueba si `var2` es mayor que 6, y si es así imprime `¡Es enorme también!`."
   ]
  },
  {
   "cell_type": "code",
   "execution_count": 4,
   "metadata": {},
   "outputs": [],
   "source": [
    "if var2 > 6:\n",
    "    print('¡Es enorme también!')"
   ]
  },
  {
   "cell_type": "markdown",
   "metadata": {},
   "source": [
    "4. Comprueba si `var3` es mayor que 6, y si es así imprime `¡Es enorme!` seguido por `¡Pero de verdad!` en otra línea (deberéis tener dos *print*)."
   ]
  },
  {
   "cell_type": "code",
   "execution_count": 5,
   "metadata": {},
   "outputs": [
    {
     "name": "stdout",
     "output_type": "stream",
     "text": [
      "¡Es enorme!\n",
      "¡Pero de verdad!\n"
     ]
    }
   ],
   "source": [
    "if var3 > 6:\n",
    "    print('¡Es enorme!')\n",
    "    print('¡Pero de verdad!')"
   ]
  },
  {
   "cell_type": "markdown",
   "metadata": {},
   "source": [
    "5. Comprueba si `var1` es igual que `var3`, y si es así imprime `Son iguales`."
   ]
  },
  {
   "cell_type": "code",
   "execution_count": 6,
   "metadata": {},
   "outputs": [
    {
     "name": "stdout",
     "output_type": "stream",
     "text": [
      "Son iguales\n"
     ]
    }
   ],
   "source": [
    "if var1 == var3:\n",
    "    print('Son iguales')"
   ]
  },
  {
   "cell_type": "markdown",
   "metadata": {},
   "source": [
    "6. Comprueba si `var1` es igual que `var2`, y si es así imprime `Son iguales.`"
   ]
  },
  {
   "cell_type": "code",
   "execution_count": 7,
   "metadata": {},
   "outputs": [],
   "source": [
    "if var1 == var2:\n",
    "    print('Son iguales')"
   ]
  },
  {
   "cell_type": "markdown",
   "metadata": {},
   "source": [
    "7. Comprueba si `var1` es mayor o igual que `var2`, y si es así calcula la diferencia entre `var1` y `var2`, guardala en la variable `dif`, e imprime `'La diferencia es',dif`. "
   ]
  },
  {
   "cell_type": "code",
   "execution_count": 8,
   "metadata": {},
   "outputs": [
    {
     "name": "stdout",
     "output_type": "stream",
     "text": [
      "La diferencia es 6\n"
     ]
    }
   ],
   "source": [
    "if var1 >= var2:\n",
    "    dif = var1 - var2\n",
    "    print(f'La diferencia es {dif}')"
   ]
  },
  {
   "cell_type": "markdown",
   "metadata": {},
   "source": [
    "8. Comprueba si `var1` es mayor que 6, y si es así imprime `¡Es enorme!`. Si no es así imprime `Es chiquitín.`."
   ]
  },
  {
   "cell_type": "code",
   "execution_count": 9,
   "metadata": {},
   "outputs": [
    {
     "name": "stdout",
     "output_type": "stream",
     "text": [
      "¡Es enorme!\n"
     ]
    }
   ],
   "source": [
    "if var1 > 6:\n",
    "    print('¡Es enorme!')\n",
    "else:\n",
    "    print('Es chiquitín')"
   ]
  },
  {
   "cell_type": "markdown",
   "metadata": {},
   "source": [
    "9. Comprueba si `var2` es mayor que 6, y si es así imprime `¡Es enorme también!`. Si no es así imprime `Es chiquitín también.`."
   ]
  },
  {
   "cell_type": "code",
   "execution_count": 10,
   "metadata": {},
   "outputs": [
    {
     "name": "stdout",
     "output_type": "stream",
     "text": [
      "Es chiquitín también\n"
     ]
    }
   ],
   "source": [
    "if var2 > 6:\n",
    "    print('¡Es enorme también!')\n",
    "else:\n",
    "    print('Es chiquitín también')"
   ]
  },
  {
   "cell_type": "markdown",
   "metadata": {},
   "source": [
    "10. Comprueba si `var1` es igual a `var3`, y si es así imprime `Son iguales.` Si no es así imprime `Son distintos.`"
   ]
  },
  {
   "cell_type": "code",
   "execution_count": 11,
   "metadata": {},
   "outputs": [
    {
     "name": "stdout",
     "output_type": "stream",
     "text": [
      "Son iguales\n"
     ]
    }
   ],
   "source": [
    "if var1 == var3:\n",
    "    print('Son iguales')\n",
    "else:\n",
    "    print('Son distintos')"
   ]
  },
  {
   "cell_type": "markdown",
   "metadata": {},
   "source": [
    "11. Escribe un programa para una empresa que tiene salas de juegos para todas las edades y quiere calcular de forma automática el precio que debe cobrar a sus clientes por entrar. El programa debe preguntar al usuario:\n",
    "\n",
    "    - La edad del cliente. \n",
    "    - Las condiciones que tendremos que chequear: \n",
    "\n",
    "      - Si el cliente es menor de 4 años puede entrar gratis, \n",
    "\n",
    "      - Si tiene entre 4 y 18 años debe pagar 5€ y \n",
    "\n",
    "      - Si es mayor de 18 años, 10€."
   ]
  },
  {
   "cell_type": "code",
   "execution_count": 16,
   "metadata": {},
   "outputs": [
    {
     "name": "stdout",
     "output_type": "stream",
     "text": [
      "La edad del cliente es 37\n",
      "Entrada 10€\n"
     ]
    }
   ],
   "source": [
    "#Pregunto al usuario su edad, la guardo en una variable y la imprimo\n",
    "edad_cliente = int(input('¿Qué edad tienes'))\n",
    "print(f'La edad del cliente es {edad_cliente}')\n",
    "\n",
    "#Condiciono el precio de la entrada en fución de la edad\n",
    "if edad_cliente < 4:\n",
    "    print('Entrada gratuita')\n",
    "\n",
    "elif edad_cliente >= 4 and edad_cliente <=18:\n",
    "    print('Entrada 5€')\n",
    "\n",
    "elif edad_cliente > 18:\n",
    "    print('Entrada 10€')"
   ]
  },
  {
   "cell_type": "markdown",
   "metadata": {},
   "source": [
    "12. Inicia la varible `ahorros` con un valor de `5`. Crea un bucle while que mientras los ahorros sean igual o menor que `20` imprima por pantalla la cantidad de ahorros que tenemos, y añádele `5` más. Cuando la variable ahorros supere el valor de 20 el bucle deberá parar. "
   ]
  },
  {
   "cell_type": "code",
   "execution_count": 17,
   "metadata": {},
   "outputs": [
    {
     "name": "stdout",
     "output_type": "stream",
     "text": [
      "Ahorros: 5 €\n",
      "Ahorros: 10 €\n",
      "Ahorros: 15 €\n",
      "Ahorros: 20 €\n"
     ]
    }
   ],
   "source": [
    "ahorros = 5\n",
    "\n",
    "while ahorros <=20:\n",
    "    print(f'Ahorros: {ahorros} €')\n",
    "    ahorros += 5"
   ]
  },
  {
   "cell_type": "markdown",
   "metadata": {},
   "source": [
    "13. Escribe un programa que convierta grados Celsius a grados Fahrenheit o viceversa, según la elección del usuario. Para eso tendrás que preguntar: \n",
    "\n",
    "  - Desde que unidades va a convertir la temperatura, Celsius o Fahrenheit. \n",
    "\n",
    "  - Cuál es valor de la temperatura que quiere convertir. "
   ]
  },
  {
   "cell_type": "code",
   "execution_count": 26,
   "metadata": {},
   "outputs": [
    {
     "name": "stdout",
     "output_type": "stream",
     "text": [
      "La temperatura a convertir es: 96\n",
      "El tipo de grados a convertir es: F\n",
      "El equivalente en grados Celsius es: 35.56\n"
     ]
    }
   ],
   "source": [
    "# conversión celsius a fahrenheit: (grados*9/5)+32\n",
    "# conveersión de fahrenheit a celsius: (grados-32)*5/9\n",
    "\n",
    "#Pregunto al user la temperatura a convertir\n",
    "valor_temperatura = int(input(\"¿Cuál es el valor de la temperatura a convertir?\"))\n",
    "print(f'La temperatura a convertir es: {valor_temperatura}')\n",
    "\n",
    "#Pregunto al user si son celsius o fahrenheit\n",
    "grados_origen = input(\"¿Desde qué unidades vas a convertir la temperatura?\\nEscribe 'C' para Celsius y 'F' para Fahrenheit\")\n",
    "print(f'El tipo de grados a convertir es: {grados_origen}')\n",
    "\n",
    "#Defino las fórmulas de conversión\n",
    "paso_a_fahrenheit = round((valor_temperatura*9/5)+32, 2)\n",
    "paso_a_celsius = round((valor_temperatura-32)*5/9, 2)\n",
    "\n",
    "\n",
    "if grados_origen == 'C':\n",
    "    print(f'El equivalente en grados Fahrenheit es: {paso_a_fahrenheit}')\n",
    "\n",
    "elif grados_origen == 'F':\n",
    "    print(f'El equivalente en grados Celsius es: {paso_a_celsius}')\n",
    "\n",
    "else:\n",
    "    print('Valor erróneo. Por favor, vuelve a intentarlo')"
   ]
  },
  {
   "cell_type": "markdown",
   "metadata": {},
   "source": [
    "14.  Crea un programa que calcule el impuesto sobre la renta de una persona basado en su ingreso anual y su estado civil (soltero o casado). Para eso deberás: \n",
    "\n",
    "  - Solicitar al usuario su ingreso anual.\n",
    "\n",
    "  - Preguntar al usuario su estado civil, permitiendo dos opciones: \"soltero\" (S) o \"casado\" (C).\n",
    "\n",
    "  - Calcular el impuesto sobre la renta utilizando las siguientes reglas:\n",
    "\n",
    "    - Si el estado civil es \"soltero\" (S):\n",
    "\n",
    "      - Si el ingreso anual es menor o igual a $9,875, el impuesto es el 10% del ingreso anual.\n",
    "\n",
    "      - Si el ingreso anual está entre $9,876 y $40,125, el impuesto es el 10% de los primeros $9,875 más el 12% de la cantidad que excede los $9,875.\n",
    "     \n",
    "\n",
    "    - Si el estado civil es \"casado\" (C):\n",
    "    \n",
    "      - Si el ingreso anual es menor o igual a $19,850, el impuesto es el 10% del ingreso anual.\n",
    "\n",
    "      - Si el ingreso anual está entre $19,851 y $80,250, el impuesto es el 10% de los primeros $19,850 más el 12% de la cantidad que excede los $19,850."
   ]
  },
  {
   "cell_type": "code",
   "execution_count": 27,
   "metadata": {},
   "outputs": [
    {
     "name": "stdout",
     "output_type": "stream",
     "text": [
      "Ingresos anuales: 40000€\n",
      "Estado civil: S\n",
      "Tu impuesto es: 4602.5€\n"
     ]
    }
   ],
   "source": [
    "#Pregunto al user sus ingresos\n",
    "ingreso_anual = int(input('¿Cuáles fueron tus ingresos el año pasado?'))\n",
    "print(f'Ingresos anuales: {ingreso_anual}€')\n",
    "\n",
    "#Pregunto al user su estado civil\n",
    "estado_civil = input('¿Cuál es tu estado civil? Escribe \"S\" para soltero y \"C\" para casado')\n",
    "print(f'Estado civil: {estado_civil}')\n",
    "\n",
    "#Guardo las únicas opciones válidas de estado civil en una variable para que dé mensaje de error si no se introduce alguna de las opciones válidas\n",
    "opciones_estado_civil = ('S', 'C')\n",
    "\n",
    "if not estado_civil in opciones_estado_civil:\n",
    "    print('Por favor, elige entre S (soltero) o C (casado).')\n",
    "\n",
    "#Calculo el impuesto según los parámetros introducidos por el user\n",
    "if estado_civil == 'S':\n",
    "    if ingreso_anual <= 9875:\n",
    "        impuesto = ingreso_anual * 0.10\n",
    "        print(f'Tu impuesto es: {impuesto}€')\n",
    "    \n",
    "    elif ingreso_anual >= 9876 and ingreso_anual <= 40125:\n",
    "        primer_tramo = 9875 * 0.10\n",
    "        segundo_tramo = (ingreso_anual - 9875) * 0.12\n",
    "        impuesto = primer_tramo + segundo_tramo\n",
    "        print(f'Tu impuesto es: {impuesto}€')\n",
    "\n",
    "if estado_civil == 'C':\n",
    "    if ingreso_anual <= 19850:\n",
    "        impuesto = ingreso_anual * 0.10\n",
    "    \n",
    "    elif ingreso_anual >= 19851 and ingreso_anual <= 80250:\n",
    "        primer_tramo = 19850 * 0.10\n",
    "        segundo_tramo = (ingreso_anual - 19850) * 0.12\n",
    "        impuesto = primer_tramo + segundo_tramo\n",
    "        print(f'Tu impuesto es: {impuesto}€')"
   ]
  },
  {
   "cell_type": "markdown",
   "metadata": {},
   "source": [
    "\n",
    "15. Crea un programa que evalúe el nivel de contaminación del aire en función de la concentración de partículas en suspensión (PM2.5) en microgramos por metro cúbico (µg/m³). Para eso deberás: \n",
    "\n",
    "  - Solicita al usuario que ingrese la concentración de PM2.5 en el aire en µg/m³. El usuario debe ingresar un valor numérico.\n",
    "\n",
    "  - Evalua el nivel de contaminación del aire según la siguiente escala:\n",
    "\n",
    "    - Si la concentración de PM2.5 es menor o igual a 12 µg/m³, el aire se considera \"Excelente\".\n",
    "\n",
    "    - Si la concentración de PM2.5 está entre 13 µg/m³ y 35 µg/m³, el aire se considera \"Bueno\".\n",
    "\n",
    "    - Si la concentración de PM2.5 está entre 36 µg/m³ y 55 µg/m³, el aire se considera \"Aceptable\".\n",
    "\n",
    "    - Si la concentración de PM2.5 está entre 56 µg/m³ y 150 µg/m³, el aire se considera \"No Saludable para Grupos Sensibles\".\n",
    "\n",
    "    - Si la concentración de PM2.5 es mayor a 150 µg/m³, el aire se considera \"No Saludable\".\n",
    "\n",
    "  - Muestra un mensaje indicando el estado de la calidad del aire. Por ejemplo, si la concentración de PM2.5 es 25 µg/m³, el programa debe mostrar: \"La calidad del aire es Buena\".\n",
    "\n",
    "  -  Además, si la concentración de PM2.5 está en la categoría \"No Saludable para Grupos Sensibles\" o \"No Saludable\", el programa debe advertir al usuario sobre los posibles efectos en la salud.\n",
    "\n",
    "  - Si la concentración ingresada por el usuario es negativa o no es un número válido, el programa debe mostrar un mensaje de error."
   ]
  },
  {
   "cell_type": "code",
   "execution_count": 34,
   "metadata": {},
   "outputs": [
    {
     "name": "stdout",
     "output_type": "stream",
     "text": [
      "El nivel de concentración es: 48.0\n",
      "Calidad del aire: aceptable\n"
     ]
    }
   ],
   "source": [
    "#Pido al user que introduzca el nivel de concentración\n",
    "concentracion = float(input('¿Cuál fue la concentración de PM2.5? Por favor, ingresa un número'))\n",
    "print(f'El nivel de concentración es: {concentracion}')\n",
    "\n",
    "#Programo los mensajes de respuesta\n",
    "if 0 <= concentracion <= 12: print(\"Calidad del aire: excelente\")\n",
    "elif 13 <= concentracion <= 35: print(\"Calidad del aire: bueno\")\n",
    "elif 36 <= concentracion <= 55: print(\"Calidad del aire: aceptable\")\n",
    "elif 56 <= concentracion <= 150: print(\"Calidad del aire: no saludable para grupos sensibles. Posibles efectos dañinos para la salud.\")\n",
    "elif concentracion > 150: print(\"Calidad del aire: no saludable. Posibles efectos dañinos para la salud.\")\n",
    "\n",
    "else: print(\"Valor incorrecto. Por favor, introduce un número válido\")"
   ]
  }
 ],
 "metadata": {
  "kernelspec": {
   "display_name": "Python 3",
   "language": "python",
   "name": "python3"
  },
  "language_info": {
   "codemirror_mode": {
    "name": "ipython",
    "version": 3
   },
   "file_extension": ".py",
   "mimetype": "text/x-python",
   "name": "python",
   "nbconvert_exporter": "python",
   "pygments_lexer": "ipython3",
   "version": "3.9.7"
  }
 },
 "nbformat": 4,
 "nbformat_minor": 2
}
