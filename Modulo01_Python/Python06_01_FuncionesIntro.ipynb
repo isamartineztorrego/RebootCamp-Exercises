{
 "cells": [
  {
   "cell_type": "markdown",
   "metadata": {},
   "source": [
    "# Ejercicios Funciones Intro"
   ]
  },
  {
   "cell_type": "markdown",
   "metadata": {},
   "source": [
    "1. Escribe una función que reciba una cadena de texto como parámetro y devuelva un diccionario con las frecuencias de cada letra en la cadena. Los espacios no deben ser considerados. "
   ]
  },
  {
   "cell_type": "code",
   "execution_count": 5,
   "metadata": {},
   "outputs": [
    {
     "data": {
      "text/plain": [
       "{'e': 7,\n",
       " 's': 2,\n",
       " 't': 3,\n",
       " 'l': 1,\n",
       " 'x': 1,\n",
       " 'o': 1,\n",
       " 'd': 1,\n",
       " 'p': 1,\n",
       " 'r': 1,\n",
       " 'u': 1,\n",
       " 'b': 1,\n",
       " 'a': 1}"
      ]
     },
     "execution_count": 5,
     "metadata": {},
     "output_type": "execute_result"
    }
   ],
   "source": [
    "#Hago la función\n",
    "def string_to_dictionary(string):\n",
    "\n",
    "    #Creo el diccionario\n",
    "    dictionary = {}\n",
    "\n",
    "    for i in string:\n",
    "        if i == ' ' or i in dictionary.keys(): #si el caracter es un espacio o ya está guardado en la lista de keys, pass\n",
    "            pass\n",
    "        else: #añade el caracter al diccionario y le da como value la cantidad de veces que aaprece en la cadena\n",
    "            dictionary[i] = string.count(i)\n",
    "    return dictionary\n",
    "\n",
    "#Llamo a la función\n",
    "string_to_dictionary('este es el texto de prueba')           "
   ]
  },
  {
   "cell_type": "markdown",
   "metadata": {},
   "source": [
    "2. Escribe una función que reciba una cadena de texto como parámetro y devuelva una lista con todas las palabras que tienen más de 5 letras."
   ]
  },
  {
   "cell_type": "code",
   "execution_count": 7,
   "metadata": {},
   "outputs": [
    {
     "data": {
      "text/plain": [
       "['segundo', 'prueba']"
      ]
     },
     "execution_count": 7,
     "metadata": {},
     "output_type": "execute_result"
    }
   ],
   "source": [
    "#Hago la funión\n",
    "def string_to_list(string):\n",
    "    words = string.split(' ') #separo las palabras por los espacios\n",
    "    most_repeated_words = [] #hago lista en la que guardaré las palabras que tienen más de 5 letras\n",
    "\n",
    "    for i in words:\n",
    "        if len(i) > 5:\n",
    "            most_repeated_words.append(i) #si la palabra tiene más de 5 letras, guárdala en la lista\n",
    "        else:\n",
    "            pass\n",
    "    return most_repeated_words\n",
    "\n",
    "#Llamo a la función\n",
    "string_to_list('este es el segundo texto de prueba')"
   ]
  },
  {
   "cell_type": "markdown",
   "metadata": {},
   "source": [
    "3. Crea una función que tome una lista de palabras como entrada y devuelva una lista de palabras que contengan más de una vocal."
   ]
  },
  {
   "cell_type": "code",
   "execution_count": 11,
   "metadata": {},
   "outputs": [
    {
     "data": {
      "text/plain": [
       "['name', 'Isa', 'love']"
      ]
     },
     "execution_count": 11,
     "metadata": {},
     "output_type": "execute_result"
    }
   ],
   "source": [
    "#Hago la función\n",
    "def list_of_words_to_list_vowel(list_of_words):\n",
    "    result_list = []\n",
    "\n",
    "    #Itero cada palabra de la list_of_words\n",
    "    for i in list_of_words:\n",
    "        #Creo un contador de vocales, partiendo de 0\n",
    "        vowel_counter = 0\n",
    "        #Itero cada letra de esa palabra\n",
    "        for j in i:\n",
    "            if j.lower() in 'aeiou':\n",
    "                vowel_counter += 1 #si la letra es una vocal, suma 1 al contador\n",
    "    \n",
    "        #Si la palabra tiene más de una vocal, agrégala a la lista final\n",
    "        if vowel_counter > 1:\n",
    "            result_list.append(i)\n",
    "    \n",
    "    return result_list\n",
    "\n",
    "#Creo una lista de palabras\n",
    "words = ['Hi', 'my', 'name', 'is', 'Isa', 'and', 'I', 'love', 'Python']\n",
    "#Llamo a la función\n",
    "list_of_words_to_list_vowel(words)"
   ]
  },
  {
   "cell_type": "markdown",
   "metadata": {},
   "source": [
    "4. Crea una función que tome una lista de números y calcule la suma de todos los números pares en la lista."
   ]
  },
  {
   "cell_type": "code",
   "execution_count": 14,
   "metadata": {},
   "outputs": [
    {
     "data": {
      "text/plain": [
       "42"
      ]
     },
     "execution_count": 14,
     "metadata": {},
     "output_type": "execute_result"
    }
   ],
   "source": [
    "#Hago la función\n",
    "def sum_of_even_numbers(list):\n",
    "\n",
    "    #Creo variable a la que se irán sumando los números pares\n",
    "    sum_even = 0\n",
    "\n",
    "    #Itero cada número\n",
    "    for i in list:\n",
    "        if i % 2 ==0:\n",
    "            sum_even += i #si es par, suma ese número al total acumulado\n",
    "        else:\n",
    "            pass\n",
    "    return sum_even\n",
    "\n",
    "#Llamoa al función\n",
    "sum_of_even_numbers([1, 2, 3, 4, 5, 6, 7, 8, 9, 10, 11, 12, 13])"
   ]
  },
  {
   "cell_type": "markdown",
   "metadata": {},
   "source": [
    "5. Escribe una función que tome una lista de números como entrada y calcule el promedio de esos números."
   ]
  },
  {
   "cell_type": "code",
   "execution_count": 20,
   "metadata": {},
   "outputs": [
    {
     "data": {
      "text/plain": [
       "7.0"
      ]
     },
     "execution_count": 20,
     "metadata": {},
     "output_type": "execute_result"
    }
   ],
   "source": [
    "#Hago la función\n",
    "def calculate_mean(list):\n",
    "\n",
    "    #Si la lista está vacía, devuelve 0 (si no pongo esta condición daría error al calcular el promedio (ZeroDivisionError: division by zero))\n",
    "    if len(list) == 0:\n",
    "        return 0\n",
    "\n",
    "    suma = sum(list) #suma todos los números de la lista\n",
    "    mean = suma / len (list) #divide entre la longitud de la lista para calcular el promedio\n",
    "    return mean\n",
    "\n",
    "#Llamo a la función\n",
    "calculate_mean([1, 2, 3, 4, 5, 6, 7, 8, 9, 10, 11, 12, 13])"
   ]
  },
  {
   "cell_type": "markdown",
   "metadata": {},
   "source": [
    "6. Crea una función que determine el próximo año en el que las cifras del año de tu cumpleaños no se repitan. La función toma un año de tu cumpleaños como entrada y calcula el próximo año en el que las cifras no se repitan, es decir, todas las cifras en el año son diferentes entre sí."
   ]
  },
  {
   "cell_type": "code",
   "execution_count": 23,
   "metadata": {},
   "outputs": [
    {
     "data": {
      "text/plain": [
       "1962"
      ]
     },
     "execution_count": 23,
     "metadata": {},
     "output_type": "execute_result"
    }
   ],
   "source": [
    "#Hago la función\n",
    "def next_date(year):\n",
    "\n",
    "    #Creo variable que será el siguiente año\n",
    "    next_year = year + 1\n",
    "\n",
    "    #Bucle while que correrá hasta que se cumpla la condición de que sean 4 dígitos diferentes\n",
    "    #str() --> convierte next_year en una cadena\n",
    "    #set() --> convierte la cadena en un conjunto de caracteres únicos (elimina dígitos repetidos)\n",
    "    #len() --> cuenta los elementos del set\n",
    "    #El bucle while correrá hasta llegar a un next_year que tenga 4 digítios diferentes\n",
    "    while len(set(str(next_year))) != 4:\n",
    "        next_year += 1 #si next_year tiene dígitos repetidos (la longitud no es 4), incrementa 1 para pasar al siguiente año y vuelve a comprobar si ese siguiente año tiene 4 dígitos únicos\n",
    "\n",
    "    return next_year\n",
    "\n",
    "#Llamo a la función\n",
    "next_date(1960)"
   ]
  },
  {
   "cell_type": "markdown",
   "metadata": {},
   "source": [
    "7. Crea una función que determine cuántos pasteles puedes hornear según una receta y los ingredientes disponibles. La función toma dos diccionarios como entrada: receta, que contiene los ingredientes necesarios para un pastel, y disponible, que contiene la cantidad disponible de cada ingrediente. Sus parámetros de entrada son: \n",
    "\n",
    "    - receta: Un diccionario que representa los ingredientes necesarios para un pastel, donde las claves son los nombres de los ingredientes y los valores son las cantidades necesarias de cada ingrediente.\n",
    "\n",
    "    - disponible: Un diccionario que representa la cantidad disponible de cada ingrediente, donde las claves son los nombres de los ingredientes y los valores son las cantidades disponibles.\n",
    "\n",
    "    ```python\n",
    "    receta1 = {'flour': 500, 'sugar': 200, 'eggs': 1}\n",
    "    disponible1 = {'flour': 1200, 'sugar': 1200, 'eggs': 5, 'milk': 200}\n",
    "\n",
    "    pasteles(receta1, disponible1)    \n",
    "    # output: con estos ingredientes solo puedo hacer 2 bizcochos\n",
    "    ```"
   ]
  },
  {
   "cell_type": "code",
   "execution_count": 25,
   "metadata": {},
   "outputs": [
    {
     "name": "stdout",
     "output_type": "stream",
     "text": [
      "You can bake 2 cakes\n"
     ]
    }
   ],
   "source": [
    "#Hago la función\n",
    "def amount_of_cakes(receta, disponible):\n",
    "\n",
    "    #Creo variable en la que se guardará el resultado de cuántos pasteles se pueden hacer según cada ingrediente\n",
    "    quantity = []\n",
    "\n",
    "    #Itero los ingredientes de la receta\n",
    "    for i in receta:\n",
    "        #si el ingrediente no está en disponible, devuelve 0\n",
    "        if i not in disponible:\n",
    "            return 0\n",
    "\n",
    "        else:\n",
    "            quantity.append(disponible[i] // receta[i]) #divide el valor de cada ingrediente disponible entre el valor de cada ingrediente receta (2, 6, 5)\n",
    "\n",
    "    return min(quantity) #la lista contiene el resultado de las 3 divisiones (2, 6, 5), así que le pido el mínimo\n",
    "\n",
    "#Creo listas receta y disponible\n",
    "receta1 = {'flour': 500, 'sugar': 200, 'eggs': 1}\n",
    "disponible1 = {'flour': 1200, 'sugar': 1200, 'eggs': 5, 'milk': 200}\n",
    "\n",
    "#Llamo a la función\n",
    "print(f'You can bake {amount_of_cakes(receta1, disponible1)} cakes')"
   ]
  },
  {
   "cell_type": "markdown",
   "metadata": {},
   "source": [
    "BONUS: \n",
    "8. Crea una función llamada fibonacci que tome un número n como argumento y devuelva una lista con los primeros n números de la serie Fibonacci."
   ]
  },
  {
   "cell_type": "code",
   "execution_count": 27,
   "metadata": {},
   "outputs": [
    {
     "data": {
      "text/plain": [
       "[0, 1, 1, 2, 3, 5, 8, 13, 21, 34]"
      ]
     },
     "execution_count": 27,
     "metadata": {},
     "output_type": "execute_result"
    }
   ],
   "source": [
    "#Sucesión de Fibonacci se trata de una serie infinita de números naturales que empieza con un 0 y un 1 y continúa añadiendo números que son la suma de los dos anteriores: 0, 1, 1, 2, 3, 5, 8, 13, 21, 34, 55, 89, 144...\n",
    "\n",
    "#Hago la función\n",
    "def fibonacci(n):\n",
    "    serie = [0, 1] # es el comienzo de la lista\n",
    "\n",
    "    while len(serie) < n: #mientras la longitud de la serie sea inferior o igual a n\n",
    "        next_number = (serie[-1]) + serie[-2] #el siguiente número es igual a la suma de los dos anteriores\n",
    "        serie.append(next_number) #añade el siguiente número a la lista\n",
    "    \n",
    "    return serie\n",
    "\n",
    "#Llamo a la función\n",
    "fibonacci(10)"
   ]
  }
 ],
 "metadata": {
  "kernelspec": {
   "display_name": "Python 3 (ipykernel)",
   "language": "python",
   "name": "python3"
  },
  "language_info": {
   "codemirror_mode": {
    "name": "ipython",
    "version": 3
   },
   "file_extension": ".py",
   "mimetype": "text/x-python",
   "name": "python",
   "nbconvert_exporter": "python",
   "pygments_lexer": "ipython3",
   "version": "3.9.7"
  },
  "toc": {
   "base_numbering": 1,
   "nav_menu": {},
   "number_sections": true,
   "sideBar": true,
   "skip_h1_title": false,
   "title_cell": "Table of Contents",
   "title_sidebar": "Contents",
   "toc_cell": true,
   "toc_position": {},
   "toc_section_display": true,
   "toc_window_display": true
  },
  "vscode": {
   "interpreter": {
    "hash": "31f2aee4e71d21fbe5cf8b01ff0e069b9275f58929596ceb00d14d90e3e16cd6"
   }
  }
 },
 "nbformat": 4,
 "nbformat_minor": 2
}
