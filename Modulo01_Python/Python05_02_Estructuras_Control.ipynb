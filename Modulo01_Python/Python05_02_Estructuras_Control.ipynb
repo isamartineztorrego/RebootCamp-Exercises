{
 "cells": [
  {
   "cell_type": "markdown",
   "metadata": {},
   "source": [
    "# Ejercicios Estructuras de Control"
   ]
  },
  {
   "cell_type": "markdown",
   "metadata": {},
   "source": [
    "1. Crea una variable que sea igual a \"Python\" y genera un código que nos printee todas las letras menos la \"P\" usando la sentencia `continue`."
   ]
  },
  {
   "cell_type": "code",
   "execution_count": 40,
   "metadata": {},
   "outputs": [
    {
     "name": "stdout",
     "output_type": "stream",
     "text": [
      "y\n",
      "t\n",
      "h\n",
      "o\n",
      "n\n"
     ]
    }
   ],
   "source": [
    "palabra='Python'\n",
    "\n",
    "for i in palabra:\n",
    "    if i == 'P':\n",
    "        continue\n",
    "    print(i)"
   ]
  },
  {
   "cell_type": "markdown",
   "metadata": {},
   "source": [
    "2. De la frase `'Hello'` imprime todas las letras que no sean una `'l'` usando `if`."
   ]
  },
  {
   "cell_type": "code",
   "execution_count": 41,
   "metadata": {},
   "outputs": [
    {
     "name": "stdout",
     "output_type": "stream",
     "text": [
      "H\n",
      "e\n",
      "o\n"
     ]
    }
   ],
   "source": [
    "for i in 'Hello':\n",
    "    if i != 'l':\n",
    "        print(i)"
   ]
  },
  {
   "cell_type": "markdown",
   "metadata": {},
   "source": [
    "3. Haz lo mismo que en 2 usando `continue`."
   ]
  },
  {
   "cell_type": "code",
   "execution_count": 42,
   "metadata": {},
   "outputs": [
    {
     "name": "stdout",
     "output_type": "stream",
     "text": [
      "H\n",
      "e\n",
      "o\n"
     ]
    }
   ],
   "source": [
    "for i in 'Hello':\n",
    "    if i == 'l':\n",
    "        continue\n",
    "    print(i)"
   ]
  },
  {
   "cell_type": "markdown",
   "metadata": {},
   "source": [
    "4. De la frase `'Hello'` imprime todas las letras parando el bucle si encuentras una `'o'`."
   ]
  },
  {
   "cell_type": "code",
   "execution_count": 43,
   "metadata": {},
   "outputs": [
    {
     "name": "stdout",
     "output_type": "stream",
     "text": [
      "H\n",
      "e\n",
      "l\n",
      "l\n"
     ]
    }
   ],
   "source": [
    "for i in 'Hello':\n",
    "    if i == 'o':\n",
    "        break\n",
    "    print(i)"
   ]
  },
  {
   "cell_type": "markdown",
   "metadata": {},
   "source": [
    "5. Define  la variable `doce = '12'` y `seis = 6`. Intenta sumarlos. En el caso de que te salga un error imprime `'¡Un error!'`. Para eso usa un `try` ... `except`"
   ]
  },
  {
   "cell_type": "code",
   "execution_count": 44,
   "metadata": {},
   "outputs": [
    {
     "name": "stdout",
     "output_type": "stream",
     "text": [
      "¡Un error!\n"
     ]
    }
   ],
   "source": [
    "doce = \"12\"\n",
    "seis = 6\n",
    "\n",
    "try:\n",
    "    doce + seis\n",
    "except:\n",
    "    print('¡Un error!')"
   ]
  },
  {
   "cell_type": "markdown",
   "metadata": {},
   "source": [
    "6. Basándonos en el ejercicio anterior, sin usar un `try` ... `except`, haz que salga un mensaje de error si no se puede realizar la suma."
   ]
  },
  {
   "cell_type": "code",
   "execution_count": 45,
   "metadata": {},
   "outputs": [
    {
     "name": "stdout",
     "output_type": "stream",
     "text": [
      "Hay un error en el tipo de datos; asegúrate de que ambas variables son int.\n"
     ]
    }
   ],
   "source": [
    "if type(doce) != int or type(seis) != int:\n",
    "    print('Hay un error en el tipo de datos; asegúrate de que ambas variables son int.')\n",
    "else:\n",
    "    print(doce + seis)"
   ]
  },
  {
   "cell_type": "markdown",
   "metadata": {},
   "source": [
    "7. Solicita al usuario ingresar números enteros positivos hasta que ingrese un número negativo. Luego, muestra la suma de todos los números pares ingresados."
   ]
  },
  {
   "cell_type": "code",
   "execution_count": 46,
   "metadata": {},
   "outputs": [
    {
     "name": "stdout",
     "output_type": "stream",
     "text": [
      "El número elegido es: 10\n",
      "El número elegido es: 10\n",
      "El número elegido es: 10\n",
      "El número elegido es: -1\n",
      "La suma total de los pares es: 30\n"
     ]
    }
   ],
   "source": [
    "#Creo variable en la que se irán sumando los pares\n",
    "suma_pares = 0\n",
    "#Inicio número para entrar en el bucle (para que el while se ejecute al menos una vez)\n",
    "number = 0\n",
    "\n",
    "while number >= 0: #mientras el número sea positivo\n",
    "    number = int(input('Introduce un número entero'))\n",
    "    print(f'El número elegido es: {number}')\n",
    "\n",
    "    if number < 0: #si es negativo, rompe el bucle\n",
    "        break\n",
    "    elif number % 2 != 0: #si es impar, continúa\n",
    "        continue\n",
    "    else: #si es par, súmalo\n",
    "        suma_pares += number\n",
    "\n",
    "print(f'La suma total de los pares es: {suma_pares}')"
   ]
  },
  {
   "cell_type": "markdown",
   "metadata": {},
   "source": [
    "8. Solicita al usuario ingresar dos números y muestra el resultado de dividir el primero por el segundo. Asegúrate de manejar la excepción si el segundo número es cero."
   ]
  },
  {
   "cell_type": "code",
   "execution_count": 47,
   "metadata": {},
   "outputs": [
    {
     "name": "stdout",
     "output_type": "stream",
     "text": [
      "El primer número es: 10.0\n",
      "El segundo número es: 0.0\n",
      "No se puede dividir entre 0\n"
     ]
    }
   ],
   "source": [
    "numero1 = float(input('Introduce el primer número'))\n",
    "print(f'El primer número es: {numero1}')\n",
    "\n",
    "numero2 = float(input('Introduce el segundo número'))\n",
    "print(f'El segundo número es: {numero2}')\n",
    "\n",
    "try:\n",
    "    print(numero1 / numero2)\n",
    "except ZeroDivisionError:\n",
    "    print('No se puede dividir entre 0')"
   ]
  },
  {
   "cell_type": "markdown",
   "metadata": {},
   "source": [
    "9. Solicita al usuario ingresar un número y muestra su raíz cuadrada. Maneja la excepción si el número es negativo."
   ]
  },
  {
   "cell_type": "code",
   "execution_count": 48,
   "metadata": {},
   "outputs": [
    {
     "name": "stdout",
     "output_type": "stream",
     "text": [
      "El número introducido es 9.0 y su raíz es 3.0\n"
     ]
    }
   ],
   "source": [
    "import math\n",
    "\n",
    "try:\n",
    "    numero = float(input('Ingresa el número del que quieres hayar la raíz cuadrada'))\n",
    "    #Si el número es negativo, error\n",
    "    if numero < 0:\n",
    "        raise ValueError('No se puede calcular la raíz cuadrada de un número negativo')\n",
    "    #Si el número es positivo, calcula la raíz\n",
    "    raiz = math.sqrt(numero)\n",
    "    print(f'El número introducido es {numero} y su raíz es {raiz}')\n",
    "\n",
    "except ValueError as e: #para errores de conversón a float si el número introducido es inválido\n",
    "    print(e)\n",
    "\n",
    "except Exception as e: #para cualquier otro error que no esté dentro del except anterior\n",
    "    print(f'Ha habido un error: {e}')\n"
   ]
  },
  {
   "cell_type": "markdown",
   "metadata": {},
   "source": [
    "10. Crea una lista de números y solicita al usuario ingresar un índice para acceder a un elemento de la lista. Maneja la excepción si el índice está fuera de rango."
   ]
  },
  {
   "cell_type": "code",
   "execution_count": 53,
   "metadata": {},
   "outputs": [
    {
     "name": "stdout",
     "output_type": "stream",
     "text": [
      "El índice a consultar es 5 y el elemento correspondiente es 6\n"
     ]
    }
   ],
   "source": [
    "lista_numeros=[1, 2, 3, 4, 5, 6, 7, 8, 9]\n",
    "\n",
    "try:\n",
    "    #Guardo la entrada del usuario en una variable, luego paso esa variable a int y la guardo en indice. Así podré utilizar el except ValueError, que para cuando el valor introducido no se puede convertir a int\n",
    "    entrada_usuario = input('Introduce el índice que quieres consultar')\n",
    "    indice = int(entrada_usuario)\n",
    "    elemento = lista_numeros[indice]\n",
    "    print(f'El índice a consultar es {indice} y el elemento correspondiente es {elemento}')\n",
    "except IndexError:\n",
    "    print(f'El índice introducido ({indice}) está fuera de rango')\n",
    "except ValueError:\n",
    "    print(f'El índice introducido ({entrada_usuario}) no es válido')\n",
    "except Exception as e:\n",
    "    print(f'Se ha producido el siguiente error: {e}')"
   ]
  }
 ],
 "metadata": {
  "kernelspec": {
   "display_name": "Python 3 (ipykernel)",
   "language": "python",
   "name": "python3"
  },
  "language_info": {
   "codemirror_mode": {
    "name": "ipython",
    "version": 3
   },
   "file_extension": ".py",
   "mimetype": "text/x-python",
   "name": "python",
   "nbconvert_exporter": "python",
   "pygments_lexer": "ipython3",
   "version": "3.9.7"
  },
  "toc": {
   "base_numbering": 1,
   "nav_menu": {},
   "number_sections": true,
   "sideBar": true,
   "skip_h1_title": false,
   "title_cell": "Table of Contents",
   "title_sidebar": "Contents",
   "toc_cell": true,
   "toc_position": {},
   "toc_section_display": true,
   "toc_window_display": true
  },
  "vscode": {
   "interpreter": {
    "hash": "31f2aee4e71d21fbe5cf8b01ff0e069b9275f58929596ceb00d14d90e3e16cd6"
   }
  }
 },
 "nbformat": 4,
 "nbformat_minor": 2
}
