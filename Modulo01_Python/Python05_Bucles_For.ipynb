{
 "cells": [
  {
   "cell_type": "markdown",
   "metadata": {},
   "source": [
    "# Ejercicios For"
   ]
  },
  {
   "cell_type": "markdown",
   "metadata": {},
   "source": [
    "1. Usando la siguiente lista: \n",
    "    ```python\n",
    "    temperaturas = [2,45,67,23, 45,66,12,1,34,67,99,98,67,64, 44, 100]\n",
    "    ```\n",
    "\n",
    "    Crea tres listas nuevas, donde: \n",
    "\n",
    "    - En la primera tengamos temperaturas entre 0 - 10, llama a la nueva lista `bajas_temp`.\n",
    "\n",
    "    - En la segunda tengamos temperaturas entre 11- 20, llama a la nueva lista `medias_temp`.\n",
    "\n",
    "    - En la tercera tengamos temperaturas por encima de 20, llama a la nueva lista `altas_temp`"
   ]
  },
  {
   "cell_type": "code",
   "execution_count": 1,
   "metadata": {},
   "outputs": [
    {
     "name": "stdout",
     "output_type": "stream",
     "text": [
      "Las temperaturas bajas son: [2, 1]\n",
      "Las temperaturas medias son: [12]\n",
      "Las temperaturas altas son: [45, 67, 23, 45, 66, 34, 67, 99, 98, 67, 64, 44, 100]\n"
     ]
    }
   ],
   "source": [
    "#Lista original\n",
    "temperaturas = [2, 45, 67, 23, 45, 66, 12, 1, 34, 67, 99, 98, 67, 64, 44, 100]\n",
    "\n",
    "#Creo lista vacías, en las que guardaré las temperaturas correspondientes\n",
    "bajas_temp = []\n",
    "medias_temp = []\n",
    "altas_temp =[]\n",
    "\n",
    "#Bucle for para guardar cada temperatura en su lista\n",
    "for i in temperaturas:\n",
    "    if i <11:\n",
    "        bajas_temp.append(i)\n",
    "    elif i >= 11 and i <= 20:\n",
    "        medias_temp.append(i)\n",
    "    else:\n",
    "        altas_temp.append(i)\n",
    "\n",
    "#Imprimo las listas para verificación\n",
    "print(f'Las temperaturas bajas son: {bajas_temp}')\n",
    "print(f'Las temperaturas medias son: {medias_temp}')\n",
    "print(f'Las temperaturas altas son: {altas_temp}')"
   ]
  },
  {
   "cell_type": "markdown",
   "metadata": {},
   "source": [
    "2. Las temperaturas están grados centígrados. Para cada una de las listas creadas en el ejercicio anterior, convertid las temperaturas a grados fahrenheit\n",
    "\n",
    "    ```\n",
    "    # la relacion de grados celsius y fahrenheit es:\n",
    "    (0 °C × 9 / 5) + 32 = 32 °F\n",
    "    ```"
   ]
  },
  {
   "cell_type": "code",
   "execution_count": 3,
   "metadata": {},
   "outputs": [
    {
     "name": "stdout",
     "output_type": "stream",
     "text": [
      "Tupla de las tres listas en Celsius: ([2, 1], [12], [45, 67, 23, 45, 66, 34, 67, 99, 98, 67, 64, 44, 100])\n",
      "Tupla de las tres listas en Fahrenheit: ([35.6, 33.8], [53.6], [113.0, 152.6, 73.4, 113.0, 150.8, 93.2, 152.6, 210.2, 208.4, 152.6, 147.2, 111.2, 212.0])\n"
     ]
    }
   ],
   "source": [
    "#Creo variable con las 3 listas anteriores\n",
    "todas = bajas_temp.copy(), medias_temp.copy(), altas_temp.copy()\n",
    "print(f'Tupla de las tres listas en Celsius: {todas}')\n",
    "\n",
    "#Itero la nueva variable y convierto cada temperatura a Fahrenheit\n",
    "for i in todas: #accedo a cada lista\n",
    "    for indice in range(len(i)): #accedo a cada elemento de cada lista\n",
    "        i[indice] = round((i[indice] * 9/5) + 32, 2)\n",
    "\n",
    "#Imprimo para verficar el resultado\n",
    "print(f'Tupla de las tres listas en Fahrenheit: {todas}')\n"
   ]
  },
  {
   "cell_type": "markdown",
   "metadata": {},
   "source": [
    "3. Define e imprime un rango de 0 a 6 (excluido)."
   ]
  },
  {
   "cell_type": "code",
   "execution_count": 4,
   "metadata": {},
   "outputs": [
    {
     "name": "stdout",
     "output_type": "stream",
     "text": [
      "0\n",
      "1\n",
      "2\n",
      "3\n",
      "4\n",
      "5\n"
     ]
    }
   ],
   "source": [
    "for i in range(6):\n",
    "    print(i)"
   ]
  },
  {
   "cell_type": "markdown",
   "metadata": {},
   "source": [
    "4. Define e imprime un rango de 3 a 6 ambos incluidos."
   ]
  },
  {
   "cell_type": "code",
   "execution_count": 5,
   "metadata": {},
   "outputs": [
    {
     "name": "stdout",
     "output_type": "stream",
     "text": [
      "3\n",
      "4\n",
      "5\n",
      "6\n"
     ]
    }
   ],
   "source": [
    "for i in range(3,7):\n",
    "    print(i)"
   ]
  },
  {
   "cell_type": "markdown",
   "metadata": {},
   "source": [
    "5. Define e imprime un rango de 5 a 9 ambos excluidos."
   ]
  },
  {
   "cell_type": "code",
   "execution_count": 6,
   "metadata": {},
   "outputs": [
    {
     "name": "stdout",
     "output_type": "stream",
     "text": [
      "6\n",
      "7\n",
      "8\n"
     ]
    }
   ],
   "source": [
    "for i in range(6,9):\n",
    "    print(i)"
   ]
  },
  {
   "cell_type": "markdown",
   "metadata": {},
   "source": [
    "6. Define e imprime un rango de 3 números que empiece en 2."
   ]
  },
  {
   "cell_type": "code",
   "execution_count": 7,
   "metadata": {},
   "outputs": [
    {
     "name": "stdout",
     "output_type": "stream",
     "text": [
      "2\n",
      "3\n",
      "4\n"
     ]
    }
   ],
   "source": [
    "for i in range(2,5):\n",
    "    print(i)"
   ]
  },
  {
   "cell_type": "markdown",
   "metadata": {},
   "source": [
    "7. Define e imprime un rango que empiece en 2, aumentando cada paso por 3, que pare antes de llegar al número 13."
   ]
  },
  {
   "cell_type": "code",
   "execution_count": 8,
   "metadata": {},
   "outputs": [
    {
     "name": "stdout",
     "output_type": "stream",
     "text": [
      "2\n",
      "5\n",
      "8\n",
      "11\n"
     ]
    }
   ],
   "source": [
    "for i in range(2, 13, 3): #13 porque está excluído (antes de que llegue a 13)\n",
    "    print(i)"
   ]
  },
  {
   "cell_type": "markdown",
   "metadata": {},
   "source": [
    "8. Define e imprime un rango con todos los valores impares que hay hasta 10."
   ]
  },
  {
   "cell_type": "code",
   "execution_count": 9,
   "metadata": {},
   "outputs": [
    {
     "name": "stdout",
     "output_type": "stream",
     "text": [
      "1\n",
      "3\n",
      "5\n",
      "7\n",
      "9\n"
     ]
    }
   ],
   "source": [
    "for i in range(1, 11, 2):\n",
    "    print(i)"
   ]
  },
  {
   "cell_type": "markdown",
   "metadata": {},
   "source": [
    "9. Crea una lista nueva donde tengamos los números de la lista `temperaturas` elevados al cuadrado. "
   ]
  },
  {
   "cell_type": "code",
   "execution_count": 10,
   "metadata": {},
   "outputs": [
    {
     "name": "stdout",
     "output_type": "stream",
     "text": [
      "La lista original de temperaturas era: [2, 45, 67, 23, 45, 66, 12, 1, 34, 67, 99, 98, 67, 64, 44, 100]\n",
      "La lista de las temperaturas al cuadrado es: [4, 2025, 4489, 529, 2025, 4356, 144, 1, 1156, 4489, 9801, 9604, 4489, 4096, 1936, 10000]\n"
     ]
    }
   ],
   "source": [
    "#Creo lista vacía en la que guardaré los cuadrados\n",
    "temperaturas_squared = []\n",
    "\n",
    "#Bucle for para iterar la lista original de temperaturas, calcular el cuadrado y appendear el cuadrado a la lista vacía\n",
    "for i in temperaturas:\n",
    "    temperaturas_squared.append(i ** 2)\n",
    "\n",
    "#Imprimo amabas listas para verificación\n",
    "print(f'La lista original de temperaturas era: {temperaturas}')\n",
    "print(f'La lista de las temperaturas al cuadrado es: {temperaturas_squared}')"
   ]
  },
  {
   "cell_type": "code",
   "execution_count": 12,
   "metadata": {},
   "outputs": [
    {
     "name": "stdout",
     "output_type": "stream",
     "text": [
      "[4, 2025, 4489, 529, 2025, 4356, 144, 1, 1156, 4489, 9801, 9604, 4489, 4096, 1936, 10000]\n"
     ]
    }
   ],
   "source": [
    "#Best option\n",
    "temperaturas_cuadrado = [i ** 2 for i in temperaturas]\n",
    "print(temperaturas_cuadrado)"
   ]
  },
  {
   "cell_type": "markdown",
   "metadata": {},
   "source": [
    "10. Crea una lista nueva donde tengamos el resto de la división de cada uno de los números entre 2. "
   ]
  },
  {
   "cell_type": "code",
   "execution_count": 13,
   "metadata": {},
   "outputs": [
    {
     "name": "stdout",
     "output_type": "stream",
     "text": [
      "[0, 1, 1, 1, 1, 0, 0, 1, 0, 1, 1, 0, 1, 0, 0, 0]\n"
     ]
    }
   ],
   "source": [
    "#Creo lista vacía en la que guardaré los restos de las diviones\n",
    "lista_restos = []\n",
    "\n",
    "#Bucle for para iterar la lista original de temperaturas, calcular el resto y appendearlo a la lista_restos\n",
    "for i in temperaturas:\n",
    "    resto = i % 2\n",
    "    lista_restos.append(resto)\n",
    "\n",
    "print(lista_restos)"
   ]
  },
  {
   "cell_type": "code",
   "execution_count": 14,
   "metadata": {},
   "outputs": [
    {
     "data": {
      "text/plain": [
       "[0, 1, 1, 1, 1, 0, 0, 1, 0, 1, 1, 0, 1, 0, 0, 0]"
      ]
     },
     "execution_count": 14,
     "metadata": {},
     "output_type": "execute_result"
    }
   ],
   "source": [
    "#Best option\n",
    "lista_restos2 = [i % 2 for i in temperaturas]\n",
    "lista_restos2"
   ]
  },
  {
   "cell_type": "markdown",
   "metadata": {},
   "source": [
    "11. Crea una lista nueva donde tengamos solo los elementos pares de la lista `temperaturas`. "
   ]
  },
  {
   "cell_type": "code",
   "execution_count": 15,
   "metadata": {},
   "outputs": [
    {
     "data": {
      "text/plain": [
       "[2, 66, 12, 34, 98, 64, 44, 100]"
      ]
     },
     "execution_count": 15,
     "metadata": {},
     "output_type": "execute_result"
    }
   ],
   "source": [
    "pares = [i for i in temperaturas if i % 2 ==0]\n",
    "pares"
   ]
  },
  {
   "cell_type": "markdown",
   "metadata": {},
   "source": [
    "12. Crea una lista nueva donde tengamos solo los elementos que sean menores que 50."
   ]
  },
  {
   "cell_type": "code",
   "execution_count": 16,
   "metadata": {},
   "outputs": [
    {
     "data": {
      "text/plain": [
       "[2, 45, 23, 45, 12, 1, 34, 44]"
      ]
     },
     "execution_count": 16,
     "metadata": {},
     "output_type": "execute_result"
    }
   ],
   "source": [
    "under50 = [i for i in temperaturas if i < 50]\n",
    "under50"
   ]
  },
  {
   "cell_type": "markdown",
   "metadata": {},
   "source": [
    "13. Crea una lista donde tengamos los valores \"par\" e \"impar\" en función de los valores de la lista original. La lista resultante tiene que ser como la que indicamos a continuación: \n",
    "\n",
    "    ```python\n",
    "    lista_strings = [\"par\",\"impar\",\"impar\",\"impar\", \"impar\",\"par\",\"par\",\"impar\",\"par\",\"impar\",\"impar\",\"par\",\"impar\",\"par\", \"par\", \"par\"]\n",
    "    ```"
   ]
  },
  {
   "cell_type": "code",
   "execution_count": 17,
   "metadata": {},
   "outputs": [
    {
     "name": "stdout",
     "output_type": "stream",
     "text": [
      "['par', 'impar', 'impar', 'impar', 'impar', 'par', 'par', 'impar', 'par', 'impar', 'impar', 'par', 'impar', 'par', 'par', 'par']\n"
     ]
    }
   ],
   "source": [
    "#Creo lista vacía\n",
    "lista_strings = []\n",
    "\n",
    "#Itero para appendear la lista vacía\n",
    "for i in temperaturas:\n",
    "    if i % 2 == 0:\n",
    "        lista_strings.append('par')\n",
    "    else:\n",
    "        lista_strings.append('impar')\n",
    "\n",
    "print(lista_strings)"
   ]
  },
  {
   "cell_type": "code",
   "execution_count": 19,
   "metadata": {},
   "outputs": [
    {
     "name": "stdout",
     "output_type": "stream",
     "text": [
      "['par', 'impar', 'impar', 'impar', 'impar', 'par', 'par', 'impar', 'par', 'impar', 'impar', 'par', 'impar', 'par', 'par', 'par']\n"
     ]
    }
   ],
   "source": [
    "#Best option\n",
    "lista_strings2 = ['par' if i % 2 == 0 else 'impar' for i in temperaturas]\n",
    "print(lista_strings2)"
   ]
  },
  {
   "cell_type": "markdown",
   "metadata": {},
   "source": [
    "14. Pide al usuario un número entero positivo y suma los números pares e impares por separado hasta ese número."
   ]
  },
  {
   "cell_type": "code",
   "execution_count": 23,
   "metadata": {},
   "outputs": [
    {
     "name": "stdout",
     "output_type": "stream",
     "text": [
      "El número elegido es: 10\n",
      "La suma de los pares es: 30\n",
      "La suma de los impares es: 25\n"
     ]
    }
   ],
   "source": [
    "#Pido al user que introduzca un número\n",
    "user_number = int(input('Introduce un número entero posivito'))\n",
    "print(f'El número elegido es: {user_number}')\n",
    "\n",
    "#Programo mensaje de error si el número introducido no es válido\n",
    "if user_number < 0 or type(user_number) is not int:\n",
    "    print('Valor erróneo. Introduce un número entero positivo')\n",
    "\n",
    "#Creo variables que parten de 0 y a las que se irán sumando los pares e impares\n",
    "suma_pares = 0\n",
    "suma_impares = 0\n",
    "\n",
    "#Bucle for\n",
    "for i in range(1, user_number + 1): #el rango va desde el 1 hasta un número siguiente al que elija el user (porque el último se excluye)\n",
    "    if i % 2 == 0: #si es par\n",
    "        suma_pares += i\n",
    "    else:\n",
    "        suma_impares += i\n",
    "\n",
    "#Imprimo resultados\n",
    "print(f'La suma de los pares es: {suma_pares}')\n",
    "print(f'La suma de los impares es: {suma_impares}')"
   ]
  },
  {
   "cell_type": "markdown",
   "metadata": {},
   "source": [
    "15. Pide al usuario ingresar una cadena y cuenta cuántas veces aparece cada vocal (a, e, i, o, u) en la cadena."
   ]
  },
  {
   "cell_type": "code",
   "execution_count": 26,
   "metadata": {},
   "outputs": [
    {
     "name": "stdout",
     "output_type": "stream",
     "text": [
      "La cadna es: hola que tal\n"
     ]
    },
    {
     "data": {
      "text/plain": [
       "{'a': 2, 'e': 1, 'i': 0, 'o': 1, 'u': 1}"
      ]
     },
     "execution_count": 26,
     "metadata": {},
     "output_type": "execute_result"
    }
   ],
   "source": [
    "#Pido al user que introduzca una cadena de texto\n",
    "cadena = input('Ingrersa una cadena de texto')\n",
    "print(f'La cadna es: {cadena}')\n",
    "\n",
    "#Creo un diccionario en el que cada vocal será una key y las veces que aparece esa vocal en la cadena será el value\n",
    "vocales = {'a':0, 'e':0, 'i':0, 'o':0, 'u':0}\n",
    "\n",
    "#Bucle for para iterar la cadena y contar cuántas veces aparece cada vocal\n",
    "for i in cadena:\n",
    "    if i in vocales:\n",
    "        vocales[i] += 1\n",
    "\n",
    "#Imprimo diccionario para ver cuántas veces apareció cada vocal\n",
    "vocales"
   ]
  }
 ],
 "metadata": {
  "kernelspec": {
   "display_name": "Python 3 (ipykernel)",
   "language": "python",
   "name": "python3"
  },
  "language_info": {
   "codemirror_mode": {
    "name": "ipython",
    "version": 3
   },
   "file_extension": ".py",
   "mimetype": "text/x-python",
   "name": "python",
   "nbconvert_exporter": "python",
   "pygments_lexer": "ipython3",
   "version": "3.9.7"
  },
  "toc": {
   "base_numbering": 1,
   "nav_menu": {},
   "number_sections": true,
   "sideBar": true,
   "skip_h1_title": false,
   "title_cell": "Table of Contents",
   "title_sidebar": "Contents",
   "toc_cell": true,
   "toc_position": {
    "height": "calc(100% - 180px)",
    "left": "10px",
    "top": "150px",
    "width": "307.2px"
   },
   "toc_section_display": true,
   "toc_window_display": true
  },
  "vscode": {
   "interpreter": {
    "hash": "31f2aee4e71d21fbe5cf8b01ff0e069b9275f58929596ceb00d14d90e3e16cd6"
   }
  }
 },
 "nbformat": 4,
 "nbformat_minor": 2
}
